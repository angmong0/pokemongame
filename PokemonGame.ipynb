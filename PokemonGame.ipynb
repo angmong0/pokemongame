{
  "nbformat": 4,
  "nbformat_minor": 0,
  "metadata": {
    "colab": {
      "provenance": [],
      "include_colab_link": true
    },
    "kernelspec": {
      "name": "python3",
      "display_name": "Python 3"
    },
    "language_info": {
      "name": "python"
    }
  },
  "cells": [
    {
      "cell_type": "markdown",
      "metadata": {
        "id": "view-in-github",
        "colab_type": "text"
      },
      "source": [
        "<a href=\"https://colab.research.google.com/github/angmong0/pokemongame/blob/main/PokemonGame.ipynb\" target=\"_parent\"><img src=\"https://colab.research.google.com/assets/colab-badge.svg\" alt=\"Open In Colab\"/></a>"
      ]
    },
    {
      "cell_type": "markdown",
      "source": [
        "# **Generate and define**"
      ],
      "metadata": {
        "id": "HVXV6FG0TveP"
      }
    },
    {
      "cell_type": "markdown",
      "source": [
        "First, we need to generate a random numer for the Pokemon and create a dictionary for winning condition using **`random_pokemon`** function and calling the API. The **`random_pokemon`** function selects a random Pokemon by generating a random number between 1 and 151, and then makes an API request to retrive the details of that Pokemon name, id, height and weight using the PokeAPI."
      ],
      "metadata": {
        "id": "wbeolUpASdPo"
      }
    },
    {
      "cell_type": "code",
      "source": [
        "!pip install requests\n",
        "\n",
        "import random\n",
        "import requests\n",
        "\n",
        "def random_pokemon():\n",
        "  pokemon_number = random.randint(1, 151)\n",
        "  url = 'https://pokeapi.co/api/v2/pokemon/{}/' .format(pokemon_number)\n",
        "  response = requests.get(url)\n",
        "  pokemon = response.json()\n",
        "\n",
        "  return {\n",
        "      'name': pokemon['name'],\n",
        "      'id': pokemon['id'],\n",
        "      'height': pokemon['height'],\n",
        "      'weight': pokemon['weight'],\n",
        "  }"
      ],
      "metadata": {
        "id": "r9ipXJYPTAqC"
      },
      "execution_count": null,
      "outputs": []
    },
    {
      "cell_type": "markdown",
      "source": [
        "Function `record_scores(user_stat, computer_stat, chosen_pokemon, opponent_pokemon, winner)` records the battle results in a text file called 'scores.txt'. It appends (adds new information at the end, thus using `'a'`) a line to the file with information about the chosen Pokémon and opponent Pokémon (including their names and IDs), the stats chosen by the computer and player, and the winner of the round."
      ],
      "metadata": {
        "id": "MbBVW6hIpmuX"
      }
    },
    {
      "cell_type": "code",
      "source": [
        "def record_scores(user_stat, computer_stat, chosen_pokemon, opponent_pokemon, winner):\n",
        "    with open('scores.txt', 'a') as file:\n",
        "        file.write('User: {} ({}), Opponent: {} ({}), Stat: {} {}, Winner: {} \\n'.format(\n",
        "            chosen_pokemon['name'], chosen_pokemon['id'],\n",
        "            opponent_pokemon['name'], opponent_pokemon['id'],\n",
        "            computer_stat, user_stat, winner))"
      ],
      "metadata": {
        "id": "PglCnv9wJ9bF"
      },
      "execution_count": null,
      "outputs": []
    },
    {
      "cell_type": "markdown",
      "source": [
        "We have also used a function `record_total_scores(total_score_player, total_score_computer)` to record the total scores for the player and the computer in the 'scores.txt' file. It appends a line to the file with the total scores for the three rounds."
      ],
      "metadata": {
        "id": "V8b79-4wp6-G"
      }
    },
    {
      "cell_type": "code",
      "source": [
        "def record_total_scores(total_score_player, total_score_computer):\n",
        "    with open('scores.txt', 'a') as file:\n",
        "        file.write('Total score for three rounds for player is: {} and for computer is: {} \\n'.format(\n",
        "            total_score_player, total_score_computer))\n"
      ],
      "metadata": {
        "id": "CGYFTCUqP_1r"
      },
      "execution_count": null,
      "outputs": []
    },
    {
      "cell_type": "markdown",
      "source": [
        "Function `generate_random_pokemon_player` generates a list of three random Pokémon using the `random_pokemon` function. It displays the list of Pokémon and prompts the player to choose one for the battle. It validates the player's input and prompts the player to choose a stat to bet on. It returns the chosen stat and the Pokémon chosen by the player."
      ],
      "metadata": {
        "id": "vX7kRyeCLZUU"
      }
    },
    {
      "cell_type": "code",
      "source": [
        "def generate_random_pokemon_player():\n",
        "    pokemon_list = {}\n",
        "\n",
        "    for i in range(3):\n",
        "        pokemon = random_pokemon()\n",
        "        pokemon_list[f'p{i + 1}'] = pokemon\n",
        "\n",
        "    for key, pokemon in pokemon_list.items():\n",
        "        print(f'{key}: {pokemon}')\n",
        "\n",
        "    while True:\n",
        "        choice = input(\"Choose a pokemon for a battle (e.g., p1): \")\n",
        "        chosen_pokemon = pokemon_list.get(choice)\n",
        "\n",
        "        if chosen_pokemon is not None:\n",
        "            while True:\n",
        "                print('Provide stat you want to bet on (e.g. id, height, weight)')\n",
        "                user_stat = input()\n",
        "\n",
        "                if user_stat in chosen_pokemon:\n",
        "                    user_stat = chosen_pokemon.get(user_stat)\n",
        "                    return user_stat, chosen_pokemon\n",
        "\n",
        "                print(\"Invalid stat. Please try again.\")\n",
        "        else:\n",
        "            print(\"Invalid choice. Please try again.\")\n"
      ],
      "metadata": {
        "id": "poVUXyLBMsh7"
      },
      "execution_count": null,
      "outputs": []
    },
    {
      "cell_type": "markdown",
      "source": [
        "Function `select_pokemon_computer` uses the `random_pokemon` function to choose a random Pokémon for the computer's selection in a battle. It prompts the computer to choose a stat (e.g., ID, height, weight) that it wants to \"beat\" the player with. It validates the user's input and returns the chosen stat and the Pokémon chosen by the computer.\n"
      ],
      "metadata": {
        "id": "ZCgTHhlsM3BQ"
      }
    },
    {
      "cell_type": "code",
      "source": [
        "def select_pokemon_computer():\n",
        "    # Generates random pokemon, using def random_pokemon():\n",
        "    pokemon_for_battle = random_pokemon()\n",
        "    # Asks to choose stat for computer\n",
        "    while True:\n",
        "        print('Provide stat you the computer want to beet on(e.g. id, height, weight)')\n",
        "        computer_stat = input()\n",
        "        # takes user input and checks if the value is inside the dictionary\n",
        "        if computer_stat in pokemon_for_battle:\n",
        "            computer_stat = int(pokemon_for_battle.get(computer_stat))\n",
        "            # prints the name of Pokémon chosen\n",
        "            print('Computer chose: {}'.format(pokemon_for_battle['name']))\n",
        "            break\n",
        "        # if value is not in the dictionary( for ex. typo)asks to provide it again\n",
        "        else:\n",
        "            print('Invalid value, try again')\n",
        "\n",
        "    return computer_stat, pokemon_for_battle"
      ],
      "metadata": {
        "id": "6fZxya9FNNMG"
      },
      "execution_count": null,
      "outputs": []
    },
    {
      "cell_type": "markdown",
      "source": [
        "# **Compare and win**"
      ],
      "metadata": {
        "id": "JLv3rPjOaGSr"
      }
    },
    {
      "cell_type": "markdown",
      "source": [
        "To compare stat values chosen by the user and the computer and choosing the winner, we have created `compare_stats(computer_stat, player_stat)` function. It prints a message indicating the outcome of the comparison (e.g., which stat was higher, who won the round), and returns the winner's name."
      ],
      "metadata": {
        "id": "bnJssGQVbVrv"
      }
    },
    {
      "cell_type": "code",
      "source": [
        "def compare_stats(computer_stat, player_stat):\n",
        "    # checks stats against each other, assigns the winner, returns winner\n",
        "    if computer_stat > player_stat:\n",
        "        winner = 'Computer'\n",
        "        print('This round wins computer with stat {} against players stat {}'.format(computer_stat, player_stat))\n",
        "    elif computer_stat < player_stat:\n",
        "        winner = 'Player'\n",
        "        print('This round player wins with stat {} against computers stat {}'.format(player_stat, computer_stat))\n",
        "    else:\n",
        "        winner = 'Tie'\n",
        "        print('Tie computer stat {} and player stat {}'.format(computer_stat, player_stat))\n",
        "\n",
        "    return winner"
      ],
      "metadata": {
        "id": "xf-xe8vwPrdV"
      },
      "execution_count": null,
      "outputs": []
    },
    {
      "cell_type": "markdown",
      "source": [
        "Function `play_round` represents a single round of the game. It calls the `generate_random_pokemon_player` function to let the player choose a Pokémon and a stat at the start of each new round. It also calls the `select_pokemon_computer` function to let the computer choose a Pokémon and a stat. It then compares the stats using the `compare_stats` function to determine the winner. The round results are recorded using the `record_scores` function. Finally, the function returns the winner of the round."
      ],
      "metadata": {
        "id": "AvBrPQxjh0vX"
      }
    },
    {
      "cell_type": "code",
      "source": [
        "def play_round():\n",
        "    # variables for a single round\n",
        "    user_stat, chosen_pokemon = generate_random_pokemon_player()\n",
        "    computer_stat, pokemon_for_battle = select_pokemon_computer()\n",
        "    winner = compare_stats(computer_stat, user_stat)\n",
        "    # recording the round\n",
        "    record_scores(user_stat, computer_stat, chosen_pokemon, pokemon_for_battle, winner)\n",
        "    return winner"
      ],
      "metadata": {
        "id": "Eazwqzzzh1kl"
      },
      "execution_count": null,
      "outputs": []
    },
    {
      "cell_type": "markdown",
      "source": [
        "# **The Pokemon Top Trump Game**"
      ],
      "metadata": {
        "id": "c2qTrqxFbxF1"
      }
    },
    {
      "cell_type": "markdown",
      "source": [
        "## This code represents the main logic of the game. Here's an explanation of the remaining functions:"
      ],
      "metadata": {
        "id": "PhII78TmqWEQ"
      }
    },
    {
      "cell_type": "markdown",
      "source": [
        "`top_trumps` function represents the main game loop. It initializes the total scores for the player and the computer. It enters a **while** loop where rounds are played until either the player or the computer reaches a score of 3. In each iteration, it calls `play_round` to play a round and updates the total scores accordingly. After each round, it asks the player if they want to continue. If the player chooses not to continue, the function ends. Once the loop is terminated, it determines the overall winner based on the total scores and calls r`ecord_total_scores` to record the final scores. It then asks the player if they want to play again. If the player chooses to play again, the `top_trumps` function is called  (recurring repeatedly). If not, the game ends.\n",
        "\n",
        "The `top_trumps` function is invoked at the end of the code, starting the game. It serves as the entry point for the game logic."
      ],
      "metadata": {
        "id": "wvfuWHG-rL0Y"
      }
    },
    {
      "cell_type": "code",
      "source": [
        "from main import select_pokemon_computer\n",
        "from main import generate_random_pokemon_player\n",
        "from main import compare_stats\n",
        "from main import record_scores\n",
        "from main import record_total_scores\n",
        "\n",
        "\n",
        "def play_round():\n",
        "    # variables for a single round\n",
        "    user_stat, chosen_pokemon = generate_random_pokemon_player()\n",
        "    computer_stat, pokemon_for_battle = select_pokemon_computer()\n",
        "    winner = compare_stats(computer_stat, user_stat)\n",
        "    # recording the round\n",
        "    record_scores(user_stat, computer_stat, chosen_pokemon, pokemon_for_battle, winner)\n",
        "    return winner\n",
        "\n",
        "\n",
        "def top_trumps():\n",
        "    total_score_player = 0\n",
        "    total_score_computer = 0\n",
        "\n",
        "    while True:\n",
        "        winner = play_round()\n",
        "\n",
        "        if winner == 'Computer':\n",
        "            total_score_computer += 1\n",
        "        elif winner == 'Player':\n",
        "            total_score_player += 1\n",
        "\n",
        "        if total_score_player >= 3 or total_score_computer >= 3:\n",
        "            break\n",
        "\n",
        "        # asking if the user wants to continue after each round\n",
        "        print(\"Would you like to continue? (y/n)\")\n",
        "        answer = input().lower()\n",
        "\n",
        "        if answer == 'n':\n",
        "            print(\"See you later, Pokemon fighter\")\n",
        "            return\n",
        "\n",
        "    # declaring the winner\n",
        "    if total_score_player > total_score_computer:\n",
        "        print(\"Best pokemon fighter for today is player with score: computer {} vs player {}\"\n",
        "              .format(total_score_computer, total_score_player))\n",
        "        record_total_scores(total_score_player, total_score_computer)\n",
        "    elif total_score_player < total_score_computer:\n",
        "        print(\"Best pokemon fighter for today is computer with score: computer {} vs player {}\"\n",
        "              .format(total_score_computer, total_score_player))\n",
        "        record_total_scores(total_score_player, total_score_computer)\n",
        "    else:\n",
        "        print(\"It is a tie with score: computer {} vs player {}\"\n",
        "              .format(total_score_computer, total_score_player))\n",
        "        record_total_scores(total_score_player, total_score_computer)\n",
        "\n",
        "    print(\"Would you like to play again? (y/n)\")\n",
        "    answer = input().lower()\n",
        "\n",
        "    if answer == 'y':\n",
        "        top_trumps()\n",
        "    else:\n",
        "        print(\"See you later, Pokemon fighter\")\n",
        "\n",
        "\n",
        "top_trumps()\n"
      ],
      "metadata": {
        "id": "PTTrHLr8Xvjq"
      },
      "execution_count": null,
      "outputs": []
    },
    {
      "cell_type": "markdown",
      "source": [
        "\n",
        "\n",
        "```\n",
        "# terminal\n",
        "```\n",
        "\n"
      ],
      "metadata": {
        "id": "1dLflIVUcQ5K"
      }
    },
    {
      "cell_type": "code",
      "source": [
        "C:\\Users\\lilhr\\PycharmProjects\\pythonProject\\venv\\Scripts\\python.exe C:\\Users\\lilhr\\PycharmProjects\\pythonProject\\pokemon.py \n",
        "p1: {'name': 'charmeleon', 'id': 5, 'height': 11, 'weight': 190}\n",
        "p2: {'name': 'graveler', 'id': 75, 'height': 10, 'weight': 1050}\n",
        "p3: {'name': 'bellsprout', 'id': 69, 'height': 7, 'weight': 40}\n",
        "Choose a pokemon for a battle (e.g., p1): p1\n",
        "Provide stat you want to bet on (e.g. id, height, weight)\n",
        "id\n",
        "Provide stat you the computer want to beet on(e.g. id, height, weight)\n",
        "id\n",
        "Computer chose: doduo\n",
        "This round wins computer with stat 84 against players stat 5\n",
        "Would you like to continue? (y/n)\n",
        "y\n",
        "p1: {'name': 'victreebel', 'id': 71, 'height': 17, 'weight': 155}\n",
        "p2: {'name': 'flareon', 'id': 136, 'height': 9, 'weight': 250}\n",
        "p3: {'name': 'nidorina', 'id': 30, 'height': 8, 'weight': 200}\n",
        "Choose a pokemon for a battle (e.g., p1): p1\n",
        "Provide stat you want to bet on (e.g. id, height, weight)\n",
        "id\n",
        "Provide stat you the computer want to beet on(e.g. id, height, weight)\n",
        "id\n",
        "Computer chose: dodrio\n",
        "This round wins computer with stat 85 against players stat 71\n",
        "Would you like to continue? (y/n)\n",
        "y\n",
        "p1: {'name': 'wigglytuff', 'id': 40, 'height': 10, 'weight': 120}\n",
        "p2: {'name': 'shellder', 'id': 90, 'height': 3, 'weight': 40}\n",
        "p3: {'name': 'vileplume', 'id': 45, 'height': 12, 'weight': 186}\n",
        "Choose a pokemon for a battle (e.g., p1): p1\n",
        "Provide stat you want to bet on (e.g. id, height, weight)\n",
        "id\n",
        "Provide stat you the computer want to beet on(e.g. id, height, weight)\n",
        "id\n",
        "Computer chose: magnemite\n",
        "This round wins computer with stat 81 against players stat 40\n",
        "Best pokemon fighter for today is computer with score: computer 3 vs player 0\n",
        "Would you like to play again? (y/n)\n",
        "y\n",
        "p1: {'name': 'electabuzz', 'id': 125, 'height': 11, 'weight': 300}\n",
        "p2: {'name': 'wigglytuff', 'id': 40, 'height': 10, 'weight': 120}\n",
        "p3: {'name': 'ponyta', 'id': 77, 'height': 10, 'weight': 300}\n",
        "Choose a pokemon for a battle (e.g., p1): p1\n",
        "Provide stat you want to bet on (e.g. id, height, weight)\n",
        "id\n",
        "Provide stat you the computer want to beet on(e.g. id, height, weight)\n",
        "id\n",
        "Computer chose: arcanine\n",
        "This round player wins with stat 125 against computers stat 59\n",
        "Would you like to continue? (y/n)\n",
        "n\n",
        "See you later, Pokemon fighter\n",
        "\n",
        "Process finished with exit code 0\n"
      ],
      "metadata": {
        "id": "S2IHL066ZV5o"
      },
      "execution_count": null,
      "outputs": []
    },
    {
      "cell_type": "markdown",
      "source": [
        "\n",
        "\n",
        "```\n",
        "# scores.txt\n",
        "```\n",
        "\n"
      ],
      "metadata": {
        "id": "1d36qyB0cj2B"
      }
    },
    {
      "cell_type": "markdown",
      "source": [
        "Total Matches Played:\n",
        "\n",
        "\n",
        "> User: charmeleon (5), Opponent: doduo (84), Stat: 84 5, Winner: Computer\n",
        "\n",
        "> User: victreebel (71), Opponent: dodrio (85), Stat: 85 71, Winner: Computer \n",
        "\n",
        "> User: wigglytuff (40), Opponent: magnemite (81), Stat: 81 40, Winner: Computer \n",
        "\n",
        "> Total score for three rounds for player is: 0 and for computer is: 3 \n",
        "\n",
        "\n",
        " \n",
        "\n",
        "\n",
        "\n",
        "\n",
        "\n",
        "\n",
        "\n"
      ],
      "metadata": {
        "id": "HleUPXn6ZbOB"
      }
    }
  ]
}